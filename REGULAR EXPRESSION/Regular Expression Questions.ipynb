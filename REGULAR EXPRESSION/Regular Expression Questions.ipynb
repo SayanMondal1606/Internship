{
 "cells": [
  {
   "cell_type": "code",
   "execution_count": null,
   "id": "9e3c7ae0",
   "metadata": {},
   "outputs": [],
   "source": [
    "#Regular Expressions"
   ]
  },
  {
   "cell_type": "code",
   "execution_count": null,
   "id": "c4fa50a2",
   "metadata": {},
   "outputs": [],
   "source": []
  },
  {
   "cell_type": "code",
   "execution_count": null,
   "id": "8068d947",
   "metadata": {},
   "outputs": [],
   "source": [
    "#Question 1- Write a Python program to replace all occurrences of a space, comma, or dot with a colon.\n",
    "#Sample Text- 'Python Exercises, PHP exercises.'\n",
    "#Expected Output: Python:Exercises::PHP:exercises:"
   ]
  },
  {
   "cell_type": "code",
   "execution_count": 2,
   "id": "eec98975",
   "metadata": {},
   "outputs": [
    {
     "name": "stdout",
     "output_type": "stream",
     "text": [
      "Expected Output :  Python:Exercises::PHP:exercises:\n"
     ]
    }
   ],
   "source": [
    "def replace_chars(txt):\n",
    "    replacements = {' ', ',', '.'}\n",
    "    for char in replacements:\n",
    "        txt = txt.replace(char, ':')\n",
    "    return txt\n",
    "Sample_text = 'Python Exercises, PHP exercises.'\n",
    "output = replace_chars(Sample_text)\n",
    "print(\"Expected Output : \",output)"
   ]
  },
  {
   "cell_type": "code",
   "execution_count": null,
   "id": "c42d6c73",
   "metadata": {},
   "outputs": [],
   "source": [
    "#Question 2-  Write a Python program to find all words starting with 'a' or 'e' in a given string."
   ]
  },
  {
   "cell_type": "code",
   "execution_count": 8,
   "id": "b7a6e8a9",
   "metadata": {},
   "outputs": [
    {
     "name": "stdout",
     "output_type": "stream",
     "text": [
      "['are', 'an', 'example', 'example']\n"
     ]
    }
   ],
   "source": [
    "import re\n",
    "def finding_words_starting_with_a_or_e(txt):\n",
    "    pattern = r'\\b[aAeE]\\w+\\b'\n",
    "    words = re.findall(pattern, txt)\n",
    "    return words\n",
    "given_string = \"You are your child's best teacher, so set an example through your own behaviour. What sort of example is that to give to others?\"\n",
    "words = finding_words_starting_with_a_or_e(given_string)\n",
    "print(words)"
   ]
  },
  {
   "cell_type": "code",
   "execution_count": null,
   "id": "12432780",
   "metadata": {},
   "outputs": [],
   "source": [
    "#Question 3- Create a function in python to find all words that are at least 4 characters long in a string. The use of the re.compile() method is mandatory."
   ]
  },
  {
   "cell_type": "code",
   "execution_count": 9,
   "id": "32c616ae",
   "metadata": {},
   "outputs": [
    {
     "name": "stdout",
     "output_type": "stream",
     "text": [
      "Here\n",
      "Python\n",
      "function\n",
      "that\n",
      "uses\n",
      "compile\n",
      "find\n",
      "words\n",
      "that\n",
      "least\n",
      "characters\n",
      "long\n",
      "string\n"
     ]
    }
   ],
   "source": [
    "import re\n",
    "def find_words_at_least_4_chars_long(txt):\n",
    "    pattern = re.compile(r'\\b\\w{4,}\\b')\n",
    "    words = pattern.findall(txt)\n",
    "    return words\n",
    "sample_text = \"Here's a Python function that uses `re.compile()` to find all words that are at least 4 characters long in a string\"\n",
    "result = find_words_at_least_4_chars_long(sample_text)\n",
    "for word in result:\n",
    "    print(word)"
   ]
  },
  {
   "cell_type": "code",
   "execution_count": null,
   "id": "451e38a7",
   "metadata": {},
   "outputs": [],
   "source": [
    "#Question 4- Create a function in python to find all three, four, and five character words in a string. The use of the re.compile() method is mandatory."
   ]
  },
  {
   "cell_type": "code",
   "execution_count": 10,
   "id": "e5e539f0",
   "metadata": {},
   "outputs": [
    {
     "name": "stdout",
     "output_type": "stream",
     "text": [
      "The\n",
      "list\n",
      "all\n",
      "the\n",
      "three\n",
      "four\n",
      "and\n",
      "five\n",
      "words\n",
      "found\n",
      "the\n"
     ]
    }
   ],
   "source": [
    "import re\n",
    "def find_words_of_length_3_to_5(txt):\n",
    "    pattern = re.compile(r'\\b\\w{3,5}\\b')\n",
    "    words = pattern.findall(txt)\n",
    "    return words\n",
    "sample_text = \"The function returns a list of all the three, four, and five character words found in the string\"\n",
    "result = find_words_of_length_3_to_5(sample_text)\n",
    "for word in result:\n",
    "    print(word)"
   ]
  },
  {
   "cell_type": "code",
   "execution_count": null,
   "id": "f7e80341",
   "metadata": {},
   "outputs": [],
   "source": [
    "#Question 5- Create a function in Python to remove the parenthesis in a list of strings. The use of the re.compile() method is mandatory.\n",
    "#Sample Text: [\"example (.com)\", \"hr@fliprobo (.com)\", \"github (.com)\", \"Hello (Data Science World)\", \"Data (Scientist)\"]\n",
    "#Expected Output:\n",
    "#example.com\n",
    "#hr@fliprobo.com\n",
    "#github.com\n",
    "#Hello Data Science World\n",
    "#Data Scientist"
   ]
  },
  {
   "cell_type": "code",
   "execution_count": 3,
   "id": "1000ad49",
   "metadata": {},
   "outputs": [
    {
     "name": "stdout",
     "output_type": "stream",
     "text": [
      "example .com\n",
      "hr@fliprobo .com\n",
      "github .com\n",
      "Hello Data Science World\n",
      "Data Scientist\n"
     ]
    }
   ],
   "source": [
    "import re\n",
    "def remove_parenthesis(strings):\n",
    "    pattern = re.compile(r\"\\(|\\)\")\n",
    "    output = []\n",
    "    for string in strings:\n",
    "        output.append(re.sub(pattern, \"\", string))\n",
    "    return output\n",
    "strings = [\"example (.com)\", \"hr@fliprobo (.com)\", \"github (.com)\", \"Hello (Data Science World)\", \"Data (Scientist)\"]\n",
    "output = remove_parenthesis(strings)\n",
    "for string in output:\n",
    "    print(string)"
   ]
  },
  {
   "cell_type": "code",
   "execution_count": null,
   "id": "fb2c43b5",
   "metadata": {},
   "outputs": [],
   "source": [
    "#Question 6- Write a python program to remove the parenthesis area from the text stored in the text file using Regular Expression.\n",
    "#Sample Text: [\"example (.com)\", \"hr@fliprobo (.com)\", \"github (.com)\", \"Hello (Data Science World)\", \"Data (Scientist)\"]\n",
    "#Expected Output: [\"example\", \"hr@fliprobo\", \"github\", \"Hello\", \"Data\"]\n",
    "#Note- Store given sample text in the text file and then to remove the parenthesis area from the text.\n"
   ]
  },
  {
   "cell_type": "code",
   "execution_count": 2,
   "id": "beb9b53c",
   "metadata": {},
   "outputs": [
    {
     "name": "stdout",
     "output_type": "stream",
     "text": [
      "Expected Output:  ['example', 'hr@fliprobo', 'github', 'Hello', 'Data']\n"
     ]
    }
   ],
   "source": [
    "import re\n",
    "def remove_parenthesis(strings):\n",
    "    pattern = re.compile(r'\\s?\\(.*?\\)\\s?')\n",
    "    output = []\n",
    "    for string in strings:\n",
    "        output.append(re.sub(pattern, '', string))\n",
    "    return output\n",
    "strings = [\"example (.com)\", \"hr@fliprobo (.com)\", \"github (.com)\", \"Hello (Data Science World)\", \"Data (Scientist)\"]\n",
    "output = remove_parenthesis(strings)\n",
    "print(\"Expected Output: \",output)"
   ]
  },
  {
   "cell_type": "code",
   "execution_count": null,
   "id": "748d93b7",
   "metadata": {},
   "outputs": [],
   "source": [
    "#Question 7- Write a regular expression in Python to split a string into uppercase letters.\n",
    "#Sample text: “ImportanceOfRegularExpressionsInPython”\n",
    "#Expected Output: [‘Importance’, ‘Of’, ‘Regular’, ‘Expression’, ‘In’, ‘Python’]\n"
   ]
  },
  {
   "cell_type": "code",
   "execution_count": 4,
   "id": "ed5e1b87",
   "metadata": {},
   "outputs": [
    {
     "name": "stdout",
     "output_type": "stream",
     "text": [
      "Expected Output:  ['Importance', 'Of', 'Regular', 'Expressions', 'In', 'Python']\n"
     ]
    }
   ],
   "source": [
    "import re\n",
    "Sample_text = \"ImportanceOfRegularExpressionsInPython\"\n",
    "split_string = re.findall('[A-Z][^A-Z]*', Sample_text)\n",
    "print(\"Expected Output: \",split_string)"
   ]
  },
  {
   "cell_type": "code",
   "execution_count": null,
   "id": "d06ef74a",
   "metadata": {},
   "outputs": [],
   "source": [
    "#Question 8- Create a function in python to insert spaces between words starting with numbers.\n",
    "#Sample Text: “RegularExpression1IsAn2ImportantTopic3InPython\"\n",
    "#Expected Output: RegularExpression 1IsAn 2ImportantTopic 3InPython\n"
   ]
  },
  {
   "cell_type": "code",
   "execution_count": 5,
   "id": "7be46afc",
   "metadata": {},
   "outputs": [
    {
     "name": "stdout",
     "output_type": "stream",
     "text": [
      "RegularExpression 1IsAn 2ImportantTopic 3InPython\n"
     ]
    }
   ],
   "source": [
    "import re\n",
    "def insert_spaces(text):\n",
    "    pattern = r'(?<=\\D)(\\d+)(?=\\D)'\n",
    "    result = re.sub(pattern, r' \\1', text)\n",
    "    return result\n",
    "text = \"RegularExpression1IsAn2ImportantTopic3InPython\"\n",
    "output = insert_spaces(text)\n",
    "print(output)"
   ]
  },
  {
   "cell_type": "code",
   "execution_count": null,
   "id": "0befb157",
   "metadata": {},
   "outputs": [],
   "source": [
    "#Question 9- Create a function in python to insert spaces between words starting with capital letters or with numbers.\n",
    "#Sample Text: “RegularExpression1IsAn2ImportantTopic3InPython\"\n",
    "#Expected Output:  RegularExpression 1 IsAn 2 ImportantTopic 3 InPython\n"
   ]
  },
  {
   "cell_type": "code",
   "execution_count": 6,
   "id": "5d1cc4cd",
   "metadata": {},
   "outputs": [
    {
     "name": "stdout",
     "output_type": "stream",
     "text": [
      " Regular Expression1 Is An2 Important Topic3 In Python\n"
     ]
    }
   ],
   "source": [
    "import re\n",
    "def insert_spaces(text):\n",
    "    updated_text = re.sub(r'([A-Z0-9][a-z]+)', r' \\1', text)\n",
    "    return updated_text\n",
    "sample_text = \"RegularExpression1IsAn2ImportantTopic3InPython\"\n",
    "updated_text = insert_spaces(sample_text)\n",
    "print(updated_text)  "
   ]
  },
  {
   "cell_type": "code",
   "execution_count": null,
   "id": "6efc3495",
   "metadata": {},
   "outputs": [],
   "source": [
    "#Question 10- Write a python program to extract email address from the text stored in the text file using Regular Expression.\n",
    "#Sample Text- Hello my name is Data Science and my email address is xyz@domain.com and alternate email address is xyz.abc@sdomain.domain.com. \n",
    "#Please contact us at hr@fliprobo.com for further information. \n",
    "#Expected Output: \n",
    "#['xyz@domain.com', 'xyz.abc@sdomain.domain.com']\n",
    "#['hr@fliprobo.com']\n",
    "\n",
    "#Note- Store given sample text in the text file and then extract email addresses.\n"
   ]
  },
  {
   "cell_type": "code",
   "execution_count": 24,
   "id": "0db42951",
   "metadata": {},
   "outputs": [
    {
     "name": "stdout",
     "output_type": "stream",
     "text": [
      "['xyz@domain.com', 'xyz.abc@sdomain.domain.com', 'hr@fliprobo.com']\n"
     ]
    }
   ],
   "source": [
    "import re\n",
    "def extract_emails():\n",
    "    with open('sample2.txt', 'r') as file:\n",
    "        data = file.read()\n",
    "        emails = re.findall(r'\\b[A-Za-z0-9._%+-]+@[A-Za-z0-9.-]+\\.[A-Za-z]{2,}\\b', data)\n",
    "    return emails\n",
    "output = extract_emails()\n",
    "print(output)"
   ]
  },
  {
   "cell_type": "code",
   "execution_count": null,
   "id": "911e9d46",
   "metadata": {},
   "outputs": [],
   "source": [
    "#Question 11- Write a Python program to match a string that contains only upper and lowercase letters, numbers, and underscores."
   ]
  },
  {
   "cell_type": "code",
   "execution_count": null,
   "id": "435b5913",
   "metadata": {},
   "outputs": [],
   "source": [
    "import re\n",
    "def match_string(string):\n",
    "    match = re.match(r'^[A-Za-z0-9_]+$', string)\n",
    "    if match:\n",
    "        return True\n",
    "    else:\n",
    "        return False\n",
    "string = \"RegularExpression1IsAn2ImportantTopic3InPython\"\n",
    "output = match_string(string)\n",
    "print(output)"
   ]
  },
  {
   "cell_type": "code",
   "execution_count": null,
   "id": "c263aa20",
   "metadata": {},
   "outputs": [],
   "source": [
    "#Question 12- Write a Python program where a string will start with a specific number. "
   ]
  },
  {
   "cell_type": "code",
   "execution_count": 7,
   "id": "aac2c802",
   "metadata": {},
   "outputs": [
    {
     "name": "stdout",
     "output_type": "stream",
     "text": [
      "True\n"
     ]
    }
   ],
   "source": [
    "import re\n",
    "def starts_with_number(string, number):\n",
    "    pattern = r'^{}.*'.format(number)\n",
    "    match = re.match(pattern, string)\n",
    "    if match:\n",
    "        return True\n",
    "    else:\n",
    "        return False\n",
    "string = \"123abc\"\n",
    "number = \"123\"\n",
    "output = starts_with_number(string, number)\n",
    "print(output)"
   ]
  },
  {
   "cell_type": "code",
   "execution_count": null,
   "id": "c01078eb",
   "metadata": {},
   "outputs": [],
   "source": [
    "#Question 13- Write a Python program to remove leading zeros from an IP address"
   ]
  },
  {
   "cell_type": "code",
   "execution_count": 8,
   "id": "b4af8d69",
   "metadata": {},
   "outputs": [
    {
     "name": "stdout",
     "output_type": "stream",
     "text": [
      "192.168.1.1\n"
     ]
    }
   ],
   "source": [
    "import re\n",
    "def remove_leading_zeros(ip_address):\n",
    "    pattern = r'\\b0+(\\d+)\\b'\n",
    "    new_ip_address = re.sub(pattern, r'\\1', ip_address)\n",
    "    return new_ip_address\n",
    "ip_address = \"192.168.001.001\"\n",
    "output = remove_leading_zeros(ip_address)\n",
    "print(output)"
   ]
  },
  {
   "cell_type": "code",
   "execution_count": null,
   "id": "d463e8a9",
   "metadata": {},
   "outputs": [],
   "source": [
    "#Question 14- Write a regular expression in python to match a date string in the form of Month name followed by day number and year stored in a text file.\n",
    "#Sample text :  ' On August 15th 1947 that India was declared independent from British colonialism, and the reins of control were handed over to the leaders of the Country’.\n",
    "#Expected Output- August 15th 1947\n",
    "#Note- Store given sample text in the text file and then extract the date string asked format.\n"
   ]
  },
  {
   "cell_type": "code",
   "execution_count": 27,
   "id": "91b29b5d",
   "metadata": {},
   "outputs": [
    {
     "name": "stdout",
     "output_type": "stream",
     "text": [
      "['August 15th 1947']\n"
     ]
    }
   ],
   "source": [
    "import re\n",
    "def extract_date(filename):\n",
    "    with open(filename, 'r') as file:\n",
    "        text = file.read()\n",
    "    dates = re.findall(r'([A-Z][a-z]+ \\d{1,2}(?:st|nd|rd|th)? \\d{4})', text)\n",
    "    return dates\n",
    "filename = \"sample.txt\"\n",
    "output = extract_date(filename)\n",
    "print(output)"
   ]
  },
  {
   "cell_type": "code",
   "execution_count": null,
   "id": "a107ac58",
   "metadata": {},
   "outputs": [],
   "source": [
    "#Question 15- Write a Python program to search some literals strings in a string. \n",
    "#Sample text : 'The quick brown fox jumps over the lazy dog.'\n",
    "#Searched words : 'fox', 'dog', 'horse'\n"
   ]
  },
  {
   "cell_type": "code",
   "execution_count": 1,
   "id": "7d8f26fa",
   "metadata": {},
   "outputs": [
    {
     "name": "stdout",
     "output_type": "stream",
     "text": [
      "dog\n",
      "fox\n",
      "\n"
     ]
    }
   ],
   "source": [
    "import re\n",
    "Searched_words={'fox','dog','horse'}\n",
    "sample_text='The quick brown fox jumps over the lazy dog.'\n",
    "for searched_words in Searched_words:\n",
    "    if re.search(searched_words,sample_text):\n",
    "        print(searched_words)\n",
    "    else:\n",
    "        print()"
   ]
  },
  {
   "cell_type": "code",
   "execution_count": null,
   "id": "b03dd9f3",
   "metadata": {},
   "outputs": [],
   "source": [
    "#Question 16- Write a Python program to search a literals string in a string and also find the location within the original string where the pattern occurs\n",
    "#Sample text : 'The quick brown fox jumps over the lazy dog.'\n",
    "#Searched words : 'fox'\n"
   ]
  },
  {
   "cell_type": "code",
   "execution_count": 2,
   "id": "e7927ba7",
   "metadata": {},
   "outputs": [
    {
     "name": "stdout",
     "output_type": "stream",
     "text": [
      "fox\n"
     ]
    }
   ],
   "source": [
    "import re\n",
    "Searched_words={'fox'}\n",
    "sample_text='The quick brown fox jumps over the lazy dog.'\n",
    "for searched_words in Searched_words:\n",
    "    if re.search(searched_words,sample_text):\n",
    "        print(searched_words)\n",
    "    else:\n",
    "        print('no search text found')"
   ]
  },
  {
   "cell_type": "code",
   "execution_count": null,
   "id": "27a45a9d",
   "metadata": {},
   "outputs": [],
   "source": [
    "#Question 17- Write a Python program to find the substrings within a string.\n",
    "#Sample text : 'Python exercises, PHP exercises, C# exercises'\n",
    "#Pattern : 'exercises'.\n"
   ]
  },
  {
   "cell_type": "code",
   "execution_count": 4,
   "id": "6c771812",
   "metadata": {},
   "outputs": [
    {
     "name": "stdout",
     "output_type": "stream",
     "text": [
      "Substrings Pattern found\n",
      "exercises\n",
      "exercises\n",
      "exercises\n"
     ]
    }
   ],
   "source": [
    "import re\n",
    "Sample_text = 'Python exercises, PHP exercises, C# exercises'\n",
    "Pattern = 'exercises'\n",
    "matches= re.findall(Pattern,Sample_text)\n",
    "print(\"Substrings Pattern found\")\n",
    "for match in matches:\n",
    "    print(match)"
   ]
  },
  {
   "cell_type": "code",
   "execution_count": null,
   "id": "e1e5abd1",
   "metadata": {},
   "outputs": [],
   "source": [
    "#Question 18- Write a Python program to find the occurrence and position of the substrings within a string."
   ]
  },
  {
   "cell_type": "code",
   "execution_count": 5,
   "id": "40d5b780",
   "metadata": {},
   "outputs": [
    {
     "name": "stdout",
     "output_type": "stream",
     "text": [
      "[(7, 16), (22, 31), (36, 45)]\n"
     ]
    }
   ],
   "source": [
    "import re\n",
    "def find_occurrence_positions(string, substring):\n",
    "    positions = []\n",
    "    for match in re.finditer(substring, string):\n",
    "        positions.append((match.start(), match.end()))\n",
    "    return positions\n",
    "string = \"Python exercises, PHP exercises, C# exercises\"\n",
    "substring = 'exercises'\n",
    "output = find_occurrence_positions(string, substring)\n",
    "print(output)"
   ]
  },
  {
   "cell_type": "code",
   "execution_count": null,
   "id": "37fe7cc1",
   "metadata": {},
   "outputs": [],
   "source": [
    "#Question 19- Write a Python program to convert a date of yyyy-mm-dd format to dd-mm-yyyy format."
   ]
  },
  {
   "cell_type": "code",
   "execution_count": 6,
   "id": "8f7c9ad6",
   "metadata": {},
   "outputs": [
    {
     "name": "stdout",
     "output_type": "stream",
     "text": [
      "08-10-2023\n"
     ]
    }
   ],
   "source": [
    "import datetime\n",
    "def convert_date(date):\n",
    "    date_object = datetime.datetime.strptime(date, \"%Y-%m-%d\")\n",
    "    new_date = date_object.strftime(\"%d-%m-%Y\")\n",
    "    return new_date\n",
    "date = \"2023-10-08\"\n",
    "output = convert_date(date)\n",
    "print(output)"
   ]
  },
  {
   "cell_type": "code",
   "execution_count": null,
   "id": "2fe02aa2",
   "metadata": {},
   "outputs": [],
   "source": [
    "#Question 20- Create a function in python to find all decimal numbers with a precision of 1 or 2 in a string. The use of the re.compile() method is mandatory."
   ]
  },
  {
   "cell_type": "code",
   "execution_count": 8,
   "id": "a77c9a66",
   "metadata": {},
   "outputs": [
    {
     "name": "stdout",
     "output_type": "stream",
     "text": [
      "['01.12', '0132.12', '2.31', '145.8', '3.01', '27.25', '0.25']\n"
     ]
    }
   ],
   "source": [
    "import re\n",
    "def find_decimal_numbers(string):\n",
    "    pattern = re.compile('\\d*\\.\\d{1,2}')\n",
    "    decimal_numbers = pattern.findall(string)\n",
    "    return decimal_numbers\n",
    "string = \"01.12 0132.123 2.31875 145.8 3.01 27.25 0.25\"\n",
    "output = find_decimal_numbers(string)\n",
    "print(output)"
   ]
  },
  {
   "cell_type": "code",
   "execution_count": null,
   "id": "58319500",
   "metadata": {},
   "outputs": [],
   "source": [
    "#Question 21- Write a Python program to separate and print the numbers and their position of a given string."
   ]
  },
  {
   "cell_type": "code",
   "execution_count": 18,
   "id": "caaf1461",
   "metadata": {},
   "outputs": [
    {
     "name": "stdout",
     "output_type": "stream",
     "text": [
      "[('50', 26), ('2', 57)]\n"
     ]
    }
   ],
   "source": [
    "import re\n",
    "def separate_numbers(string):\n",
    "    numbers = re.findall(r'\\d+', string)\n",
    "    positions = []\n",
    "    for num in numbers:\n",
    "        positions.append((num, string.find(num)))\n",
    "    return positions\n",
    "string = 'The price of the item is $50 and it will be delivered in 2 days'\n",
    "output = separate_numbers(string)\n",
    "print(output)"
   ]
  },
  {
   "cell_type": "code",
   "execution_count": null,
   "id": "7834d0cf",
   "metadata": {},
   "outputs": [],
   "source": [
    "#Question 22- Write a regular expression in python program to extract maximum/largest numeric value from a string.\n",
    "#Sample Text:  'My marks in each semester are: 947, 896, 926, 524, 734, 950, 642'\n",
    "#Expected Output: 950\n"
   ]
  },
  {
   "cell_type": "code",
   "execution_count": 17,
   "id": "f18be8cf",
   "metadata": {},
   "outputs": [
    {
     "name": "stdout",
     "output_type": "stream",
     "text": [
      "Expected Output:  950\n"
     ]
    }
   ],
   "source": [
    "import re\n",
    "def extract_max_value(Sample_Text):\n",
    "    number = re.findall(r'\\b\\d+\\b',Sample_Text)\n",
    "    max_value = max(number)\n",
    "    return max_value\n",
    "Sample_Text = \"My marks in each semester are: 947, 896, 926, 524, 734, 950, 642\"\n",
    "output = extract_max_value(Sample_Text)\n",
    "print('Expected Output: ',output)"
   ]
  },
  {
   "cell_type": "code",
   "execution_count": null,
   "id": "3269ac4a",
   "metadata": {},
   "outputs": [],
   "source": [
    "#Question 23- Create a function in python to insert spaces between words starting with capital letters.\n",
    "#Sample Text: “RegularExpressionIsAnImportantTopicInPython\"\n",
    "#Expected Output: Regular Expression Is An Important Topic In Python\n"
   ]
  },
  {
   "cell_type": "code",
   "execution_count": 13,
   "id": "b00d07f6",
   "metadata": {},
   "outputs": [
    {
     "name": "stdout",
     "output_type": "stream",
     "text": [
      " Regular Expression Is An Important Topic In Python\n"
     ]
    }
   ],
   "source": [
    "import re\n",
    "def insert_spaces(text):\n",
    "    updated_text = re.sub(r'([A-Z][a-z]+)', r' \\1', text)\n",
    "    return updated_text\n",
    "sample_text = \"RegularExpressionIsAnImportantTopicInPython\"\n",
    "updated_text = insert_spaces(sample_text)\n",
    "print(updated_text)"
   ]
  },
  {
   "cell_type": "code",
   "execution_count": null,
   "id": "c7d71ca1",
   "metadata": {},
   "outputs": [],
   "source": [
    "#Question 24- Python regex to find sequences of one upper case letter followed by lower case letters"
   ]
  },
  {
   "cell_type": "code",
   "execution_count": 9,
   "id": "41da811a",
   "metadata": {},
   "outputs": [
    {
     "name": "stdout",
     "output_type": "stream",
     "text": [
      "['Example', 'Text', 'Sequences', 'One', 'Upper', 'Case', 'Letter', 'Lower', 'Case', 'Letters', 'This']\n"
     ]
    }
   ],
   "source": [
    "import re\n",
    "text = \"Example Text with Sequences of One Upper Case Letter followed by Lower Case Letters like This\"\n",
    "pattern = r\"[A-Z][a-z]+\"\n",
    "matches = re.findall(pattern, text)\n",
    "print(matches)"
   ]
  },
  {
   "cell_type": "code",
   "execution_count": null,
   "id": "f4c85bd8",
   "metadata": {},
   "outputs": [],
   "source": [
    "#Question 25- Write a Python program to remove continuous duplicate words from Sentence using Regular Expression.\n",
    "#Sample Text: \"Hello hello world world\"\n",
    "#Expected Output: Hello hello world\n"
   ]
  },
  {
   "cell_type": "code",
   "execution_count": 12,
   "id": "9cbd3cb6",
   "metadata": {},
   "outputs": [
    {
     "name": "stdout",
     "output_type": "stream",
     "text": [
      "Expected Output : Hello hello world\n",
      "Expected Output : Hello hello world\n"
     ]
    }
   ],
   "source": [
    "import re\n",
    "def remove_continuous_duplicates(Sample_Text):\n",
    "    new_Sample_Text = re.sub(r'\\b(\\w+)( \\1\\b)+', r'\\1', Sample_Text)\n",
    "    return new_Sample_Text\n",
    "Sample_Text = \"Hello hello world world\"\n",
    "output = remove_continuous_duplicates(Sample_Text)\n",
    "print('Expected Output :',output)\n",
    "#process 2\n",
    "sample_text = \"Hello hello world world\"\n",
    "updated_text = re.sub(r'\\b(\\w+)(\\s+\\1)+\\b', r'\\1', sample_text)\n",
    "print('Expected Output :',updated_text)"
   ]
  },
  {
   "cell_type": "code",
   "execution_count": null,
   "id": "49fc7d5f",
   "metadata": {},
   "outputs": [],
   "source": [
    "#Question 26-  Write a python program using RegEx to accept string ending with alphanumeric character."
   ]
  },
  {
   "cell_type": "code",
   "execution_count": 23,
   "id": "ac53df3d",
   "metadata": {},
   "outputs": [
    {
     "name": "stdout",
     "output_type": "stream",
     "text": [
      "True\n"
     ]
    }
   ],
   "source": [
    "import re\n",
    "def ends_with_alphanumeric(string):\n",
    "    match = re.match(r'.*[A-Za-z0-9]$', string)\n",
    "    if match:\n",
    "        return True\n",
    "    else:\n",
    "        return False\n",
    "string = \"abc123\"\n",
    "output = ends_with_alphanumeric(string)\n",
    "print(output)"
   ]
  },
  {
   "cell_type": "code",
   "execution_count": null,
   "id": "28468705",
   "metadata": {},
   "outputs": [],
   "source": [
    "#Question 27-Write a python program using RegEx to extract the hashtags.\n",
    "#Sample Text:  \"\"\"RT @kapil_kausik: #Doltiwal I mean #xyzabc is \"hurt\" by #Demonetization as the same has rendered USELESS <ed><U+00A0><U+00BD><ed><U+00B1><U+0089> \"acquired funds\" No wo\"\"\"\n",
    "#Expected Output: ['#Doltiwal', '#xyzabc', '#Demonetization']\n"
   ]
  },
  {
   "cell_type": "code",
   "execution_count": null,
   "id": "8571224f",
   "metadata": {},
   "outputs": [],
   "source": [
    "import re\n",
    "sample_text = \"\"\"RT @kapil_kausik: #Doltiwal I mean #xyzabc is \"hurt\" by #Demonetization as the same has rendered USELESS <ed><U+00A0><U+00BD><ed><U+00B1><U+0089> \"acquired funds\" No wo\"\"\"\n",
    "hashtags = re.findall(r'#\\w+', sample_text)\n",
    "print(hashtags)"
   ]
  },
  {
   "cell_type": "code",
   "execution_count": null,
   "id": "42ecfc7e",
   "metadata": {},
   "outputs": [],
   "source": [
    "#Question 28- Write a python program using RegEx to remove <U+..> like symbols\n",
    "#Check the below sample text, there are strange symbols something of the sort <U+..> all over the place. You need to come up with a general Regex expression that will cover all such symbols.\n",
    "#Sample Text: \"@Jags123456 Bharat band on 28??<ed><U+00A0><U+00BD><ed><U+00B8><U+0082>Those who  are protesting #demonetization  are all different party leaders\"\n",
    "#Expected Output: @Jags123456 Bharat band on 28??<ed><ed>Those who  are protesting #demonetization  are all different party leaders\n"
   ]
  },
  {
   "cell_type": "code",
   "execution_count": 20,
   "id": "c01a2fa7",
   "metadata": {},
   "outputs": [
    {
     "name": "stdout",
     "output_type": "stream",
     "text": [
      "Expected Output:  @Jags123456 Bharat band on 28??<ed><ed>Those who  are protesting #demonetization  are all different party leaders\n"
     ]
    }
   ],
   "source": [
    "import re\n",
    "sample_text = \"@Jags123456 Bharat band on 28??<ed><U+00A0><U+00BD><ed><U+00B8><U+0082>Those who  are protesting #demonetization  are all different party leaders\"\n",
    "updated_text = re.sub(r'<U\\+[\\da-zA-Z]{4}>', '', sample_text)\n",
    "print('Expected Output: ',updated_text)  "
   ]
  },
  {
   "cell_type": "code",
   "execution_count": null,
   "id": "8136a1d0",
   "metadata": {},
   "outputs": [],
   "source": [
    "#Question 29- Write a python program to extract dates from the text stored in the text file.\n",
    "#Sample Text: Ron was born on 12-09-1992 and he was admitted to school 15-12-1999.\n",
    "#Note- Store this sample text in the file and then extract dates.\n"
   ]
  },
  {
   "cell_type": "code",
   "execution_count": 19,
   "id": "baf895a0",
   "metadata": {},
   "outputs": [
    {
     "name": "stdout",
     "output_type": "stream",
     "text": [
      "['12-09-1992', '15-12-1999']\n"
     ]
    }
   ],
   "source": [
    "import re\n",
    "with open('sample1.txt', 'r') as f:\n",
    "    text = f.read()\n",
    "matches = re.findall(r'\\b\\d{1,2}-\\d{1,2}-\\d{4}\\b', text)\n",
    "print(matches)"
   ]
  },
  {
   "cell_type": "code",
   "execution_count": null,
   "id": "cb085a25",
   "metadata": {},
   "outputs": [],
   "source": [
    "#Question 30- Create a function in python to remove all words from a string of length between 2 and 4.\n",
    "#The use of the re.compile() method is mandatory.\n",
    "#Sample Text: \"The following example creates an ArrayList with a capacity of 50 elements. 4 elements are then added to the ArrayList and the ArrayList is trimmed accordingly.\"\n",
    "#Expected Output:  following example creates ArrayList a capacity elements. 4 elements added ArrayList ArrayList trimmed accordingly.\n"
   ]
  },
  {
   "cell_type": "code",
   "execution_count": 22,
   "id": "3df30957",
   "metadata": {},
   "outputs": [
    {
     "name": "stdout",
     "output_type": "stream",
     "text": [
      "Expected Output:   following example creates  ArrayList  a capacity   elements. 4 elements   added   ArrayList   ArrayList  trimmed accordingly.\n"
     ]
    }
   ],
   "source": [
    "import re\n",
    "def remove_words_of_length(Sample_Text, min_length, max_length):\n",
    "    pattern = re.compile(r'\\b\\w{2,4}\\b')\n",
    "    new_Sample_Text = pattern.sub('', Sample_Text)\n",
    "    return new_Sample_Text\n",
    "Sample_Text = \"The following example creates an ArrayList with a capacity of 50 elements. 4 elements are then added to the ArrayList and the ArrayList is trimmed accordingly.\"\n",
    "output = remove_words_of_length(Sample_Text, 2, 4)\n",
    "print('Expected Output: ',output)"
   ]
  }
 ],
 "metadata": {
  "kernelspec": {
   "display_name": "Python 3 (ipykernel)",
   "language": "python",
   "name": "python3"
  },
  "language_info": {
   "codemirror_mode": {
    "name": "ipython",
    "version": 3
   },
   "file_extension": ".py",
   "mimetype": "text/x-python",
   "name": "python",
   "nbconvert_exporter": "python",
   "pygments_lexer": "ipython3",
   "version": "3.10.9"
  }
 },
 "nbformat": 4,
 "nbformat_minor": 5
}
